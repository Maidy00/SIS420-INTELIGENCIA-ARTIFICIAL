{
 "cells": [
  {
   "cell_type": "code",
   "execution_count": 1,
   "metadata": {},
   "outputs": [],
   "source": [
    "class Nodo:\n",
    "    def __init__(self, estado, hijo=None):\n",
    "        self.estado = estado\n",
    "        self.hijo = None\n",
    "        self.padre = None\n",
    "        self.accion = None\n",
    "        self.acciones = None\n",
    "        self.costo = None\n",
    "        self.set_hijo(hijo)\n",
    "\n",
    "    def set_estado(self, estado):\n",
    "        self.estado = estado\n",
    "\n",
    "    def get_estado(self):\n",
    "        return self.estado\n",
    "\n",
    "    def set_hijo(self, hijo):\n",
    "        self.hijo = hijo\n",
    "        if self.hijo is not None:\n",
    "            for s in self.hijo:\n",
    "                s.padre = self\n",
    "\n",
    "    def get_hijo(self):\n",
    "        return self.hijo\n",
    "    \n",
    "    def set_padre(self, padre):\n",
    "        self.padre = padre\n",
    "\n",
    "    def get_padre(self):\n",
    "        return self.padre\n",
    "    \n",
    "    def set_accion(self, accion):\n",
    "        self.padre = accion\n",
    "\n",
    "    def get_accion(self):\n",
    "        return self.accion\n",
    "\n",
    "    def set_acciones(self, acciones):\n",
    "        self.acciones = acciones\n",
    "\n",
    "    def get_acciones(self):\n",
    "        return self.acciones\n",
    "\n",
    "    def set_costo(self, costo):\n",
    "        self.costo = costo\n",
    "\n",
    "    def get_costo(self):\n",
    "        return self.costo\n",
    "\n",
    "    def equal(self, Nodo):\n",
    "        if self.get_estado() == Nodo.get_estado():\n",
    "            return True\n",
    "        else:\n",
    "            return False\n",
    "\n",
    "    def en_lista(self, lista_nodos):\n",
    "        enlistado = False\n",
    "        for n in lista_nodos:\n",
    "            if self.equal(n):\n",
    "                enlistado = True\n",
    "        return enlistado\n",
    "\n",
    "    def __str__(self):\n",
    "        return str(self.get_estado())"
   ]
  },
  {
   "cell_type": "markdown",
   "metadata": {},
   "source": [
    "al impletar su campo de costo a cada nodo de manera aleatoria no afectan mucho al momento de la solucion, para mejorar tendriamos que manejar las distancias de cada nodo"
   ]
  },
  {
   "cell_type": "code",
   "execution_count": 2,
   "metadata": {},
   "outputs": [],
   "source": [
    "import random\n",
    "def busqueda_BPA_solucion(estado_inicial, solucion , n):\n",
    "    resuelto = False\n",
    "    nodos_visitados = []\n",
    "    nodos_frontera = []\n",
    "\n",
    "    nodo_raiz = Nodo(estado_inicial)\n",
    "    nodos_frontera.append(nodo_raiz)\n",
    "    while (not resuelto) and len(nodos_frontera) != 0:\n",
    "        nodo_actual = nodos_frontera.pop(0)\n",
    "        # extraer nodo y añadirlo a visitados \n",
    "        nodos_visitados.append(nodo_actual)\n",
    "        if nodo_actual.get_estado() == solucion:\n",
    "            # solucion encontrada\n",
    "            resuelto = True\n",
    "            return nodo_actual\n",
    "        else:\n",
    "            # expandir nodos hijo \n",
    "            estado_nodo = nodo_actual.get_estado()\n",
    "\n",
    "            hijos = []\n",
    "            for i in range(n-1):\n",
    "                hijo = estado_nodo[:]\n",
    "                hijo[i] = estado_nodo[i+1]\n",
    "                hijo[i+1] = estado_nodo[i]\n",
    "                hijo_nodo = Nodo(hijo) # instanciar nodo hijo\n",
    "                costo_random = random.randint(1, 10)\n",
    "                hijo_nodo.set_costo(costo_random)\n",
    "\n",
    "                hijos.append(hijo_nodo)\n",
    "                if not hijo_nodo.en_lista(nodos_visitados) and not hijo_nodo.en_lista(nodos_frontera):\n",
    "                    nodos_frontera.append(hijo_nodo)\n",
    "                \n",
    "            nodo_actual.set_hijo(hijos)\n",
    "            "
   ]
  },
  {
   "cell_type": "code",
   "execution_count": 3,
   "metadata": {},
   "outputs": [],
   "source": [
    "import random\n",
    "\n",
    "def geenerador_estados(n):\n",
    "    estado_inicial = []\n",
    "    estado_solucion = []\n",
    "    for i in range(n):\n",
    "        estado_inicial.append(i+1)\n",
    "        estado_solucion.append(i+1)\n",
    "    for i in range(n):\n",
    "        pos = random.randint(0, n-1)\n",
    "        temp = estado_inicial[i]\n",
    "        estado_inicial[i] = estado_inicial[pos]\n",
    "        estado_inicial[pos] = temp\n",
    "    return estado_inicial, estado_solucion"
   ]
  },
  {
   "cell_type": "code",
   "execution_count": 11,
   "metadata": {},
   "outputs": [
    {
     "name": "stdout",
     "output_type": "stream",
     "text": [
      "[[7, 3, 1, 5, 6, 4, 2], [3, 7, 1, 5, 6, 4, 2], [3, 1, 7, 5, 6, 4, 2], [1, 3, 7, 5, 6, 4, 2], [1, 3, 5, 7, 6, 4, 2], [1, 3, 5, 6, 7, 4, 2], [1, 3, 5, 6, 4, 7, 2], [1, 3, 5, 4, 6, 7, 2], [1, 3, 4, 5, 6, 7, 2], [1, 3, 4, 5, 6, 2, 7], [1, 3, 4, 5, 2, 6, 7], [1, 3, 4, 2, 5, 6, 7], [1, 3, 2, 4, 5, 6, 7], [1, 2, 3, 4, 5, 6, 7]]\n"
     ]
    }
   ],
   "source": [
    "if __name__ == \"__main__\":\n",
    "    longitud = 7\n",
    "    estado_inicial, solucion = geenerador_estados(longitud)\n",
    "    nodo_solucion = busqueda_BPA_solucion(estado_inicial, solucion, longitud)\n",
    "    # mostrar resultado\n",
    "    resultado = []\n",
    "    nodo_actual = nodo_solucion\n",
    "    while nodo_actual.get_padre() is not None:\n",
    "        resultado.append(nodo_actual.get_estado())\n",
    "        nodo_actual = nodo_actual.get_padre()\n",
    "\n",
    "    resultado.append(estado_inicial)\n",
    "    resultado.reverse()\n",
    "    print(resultado)"
   ]
  }
 ],
 "metadata": {
  "kernelspec": {
   "display_name": "Python 3.10.7 64-bit",
   "language": "python",
   "name": "python3"
  },
  "language_info": {
   "codemirror_mode": {
    "name": "ipython",
    "version": 3
   },
   "file_extension": ".py",
   "mimetype": "text/x-python",
   "name": "python",
   "nbconvert_exporter": "python",
   "pygments_lexer": "ipython3",
   "version": "3.10.7"
  },
  "orig_nbformat": 4,
  "vscode": {
   "interpreter": {
    "hash": "c63d8c7d738c2960218a10995aedf0a7f67a49a231e71037adf0440953cdb45b"
   }
  }
 },
 "nbformat": 4,
 "nbformat_minor": 2
}
