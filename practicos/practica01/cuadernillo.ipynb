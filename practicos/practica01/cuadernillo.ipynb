{
 "cells": [
  {
   "cell_type": "markdown",
   "metadata": {},
   "source": [
    "Descripción de las listas"
   ]
  },
  {
   "cell_type": "code",
   "execution_count": 134,
   "metadata": {},
   "outputs": [
    {
     "name": "stdout",
     "output_type": "stream",
     "text": [
      "['shark', 'cuttlefish', 'squid', 'mantis shrimp', 'anemone']\n"
     ]
    }
   ],
   "source": [
    "sea_creatures = ['shark', 'cuttlefish', 'squid',\n",
    "'mantis shrimp', 'anemone']\n",
    "print(sea_creatures)"
   ]
  },
  {
   "cell_type": "code",
   "execution_count": 135,
   "metadata": {},
   "outputs": [
    {
     "name": "stdout",
     "output_type": "stream",
     "text": [
      "cuttlefish\n",
      "squid\n",
      "Sammy is a shark\n"
     ]
    }
   ],
   "source": [
    "sea_creatures[0] = 'shark'\n",
    "sea_creatures[1] = 'cuttlefish'\n",
    "sea_creatures[2] = 'squid'\n",
    "sea_creatures[3] = 'mantis shrimp'\n",
    "sea_creatures[4] = 'anemone'\n",
    "print(sea_creatures[1])\n",
    "print(sea_creatures[-3])\n",
    "print('Sammy is a ' + sea_creatures[0])"
   ]
  },
  {
   "cell_type": "markdown",
   "metadata": {},
   "source": [
    "Modificación de elementos en listas"
   ]
  },
  {
   "cell_type": "code",
   "execution_count": 136,
   "metadata": {},
   "outputs": [
    {
     "name": "stdout",
     "output_type": "stream",
     "text": [
      "['shark', 'octopus', 'squid', 'mantis shrimp', 'anemone']\n",
      "['shark', 'octopus', 'blobfish', 'mantis shrimp', 'anemone']\n",
      "['octopus', 'blobfish', 'mantis shrimp']\n",
      "['shark', 'octopus', 'blobfish']\n",
      "['blobfish', 'mantis shrimp', 'anemone']\n"
     ]
    }
   ],
   "source": [
    "sea_creatures[1] = 'octopus'\n",
    "print(sea_creatures)\n",
    "sea_creatures[-3] = 'blobfish'\n",
    "print(sea_creatures)\n",
    "print(sea_creatures[1:4])\n",
    "print(sea_creatures[:3])\n",
    "print(sea_creatures[2:])"
   ]
  },
  {
   "cell_type": "code",
   "execution_count": 137,
   "metadata": {},
   "outputs": [
    {
     "name": "stdout",
     "output_type": "stream",
     "text": [
      "['octopus', 'blobfish']\n",
      "['blobfish', 'mantis shrimp', 'anemone']\n"
     ]
    }
   ],
   "source": [
    "print(sea_creatures[-4:-2])\n",
    "print(sea_creatures[-3:])"
   ]
  },
  {
   "cell_type": "code",
   "execution_count": 138,
   "metadata": {},
   "outputs": [
    {
     "name": "stdout",
     "output_type": "stream",
     "text": [
      "[1, 3, 5, 7, 9]\n",
      "[0, 3, 6, 9, 12]\n"
     ]
    }
   ],
   "source": [
    "numbers = [0, 1, 2, 3, 4, 5, 6, 7, 8, 9, 10, 11, 12]\n",
    "print(numbers[1:11:2])\n",
    "print(numbers[::3])"
   ]
  },
  {
   "cell_type": "markdown",
   "metadata": {},
   "source": [
    "Modificación de listas con operadores"
   ]
  },
  {
   "cell_type": "code",
   "execution_count": 139,
   "metadata": {},
   "outputs": [
    {
     "name": "stdout",
     "output_type": "stream",
     "text": [
      "['shark', 'octopus', 'blobfish', 'mantis shrimp', 'anemone', 'Pacific', 'Atlantic', 'Indian', 'Southern', 'Arctic']\n",
      "['shark', 'octopus', 'blobfish', 'mantis shrimp', 'anemone', 'yeti crab']\n"
     ]
    }
   ],
   "source": [
    "sea_creatures = ['shark', 'octopus', 'blobfish',\n",
    "'mantis shrimp', 'anemone']\n",
    "oceans = ['Pacific', 'Atlantic', 'Indian', 'Southern',\n",
    "'Arctic']\n",
    "print(sea_creatures + oceans)\n",
    "\n",
    "sea_creatures = sea_creatures + ['yeti crab']\n",
    "print (sea_creatures)"
   ]
  },
  {
   "cell_type": "code",
   "execution_count": 140,
   "metadata": {},
   "outputs": [
    {
     "name": "stdout",
     "output_type": "stream",
     "text": [
      "['shark', 'octopus', 'blobfish', 'mantis shrimp', 'anemone', 'yeti crab', 'shark', 'octopus', 'blobfish', 'mantis shrimp', 'anemone', 'yeti crab']\n",
      "['Pacific', 'Atlantic', 'Indian', 'Southern', 'Arctic', 'Pacific', 'Atlantic', 'Indian', 'Southern', 'Arctic', 'Pacific', 'Atlantic', 'Indian', 'Southern', 'Arctic']\n",
      "['shark', 'octopus', 'blobfish', 'mantis shrimp', 'anemone', 'yeti crab', 'fish']\n",
      "['shark', 'octopus', 'blobfish', 'mantis shrimp', 'anemone', 'yeti crab', 'fish', 'fish']\n",
      "['shark', 'octopus', 'blobfish', 'mantis shrimp', 'anemone', 'yeti crab', 'fish', 'fish', 'fish']\n"
     ]
    }
   ],
   "source": [
    "print(sea_creatures * 2)\n",
    "print(oceans * 3)\n",
    "\n",
    "for x in range(1,4):\n",
    "    sea_creatures += ['fish']\n",
    "    print(sea_creatures)"
   ]
  },
  {
   "cell_type": "code",
   "execution_count": 141,
   "metadata": {},
   "outputs": [
    {
     "name": "stdout",
     "output_type": "stream",
     "text": [
      "['shark', 'shark']\n",
      "['shark', 'shark', 'shark', 'shark']\n",
      "['shark', 'shark', 'shark', 'shark', 'shark', 'shark', 'shark', 'shark']\n"
     ]
    }
   ],
   "source": [
    "sharks = ['shark']\n",
    "for x in range(1,4):\n",
    "    sharks *= 2\n",
    "    print(sharks)"
   ]
  },
  {
   "cell_type": "markdown",
   "metadata": {},
   "source": [
    "Eliminación de un elemento de una lista"
   ]
  },
  {
   "cell_type": "code",
   "execution_count": 142,
   "metadata": {},
   "outputs": [
    {
     "name": "stdout",
     "output_type": "stream",
     "text": [
      "['shark', 'blobfish', 'mantis shrimp', 'anemone', 'yeti crab']\n",
      "['shark', 'anemone', 'yeti crab']\n"
     ]
    }
   ],
   "source": [
    "sea_creatures =['shark', 'octopus', 'blobfish',\n",
    "'mantis shrimp', 'anemone', 'yeti crab']\n",
    "del sea_creatures[1]\n",
    "print(sea_creatures)\n",
    "\n",
    "sea_creatures =['shark', 'octopus', 'blobfish',\n",
    "'mantis shrimp', 'anemone', 'yeti crab']\n",
    "del sea_creatures[1:4]\n",
    "print(sea_creatures)"
   ]
  },
  {
   "cell_type": "markdown",
   "metadata": {},
   "source": [
    "Creación de una lista con elementos de lista"
   ]
  },
  {
   "cell_type": "code",
   "execution_count": 143,
   "metadata": {},
   "outputs": [
    {
     "name": "stdout",
     "output_type": "stream",
     "text": [
      "Sammy\n",
      "Drew\n"
     ]
    }
   ],
   "source": [
    "#sea_names[0][0] = 'shark'\n",
    "#sea_names[0][1] = 'octopus'\n",
    "#sea_names[0][2] = 'squid'\n",
    "#sea_names[0][3] = 'mantis shrimp'\n",
    "#sea_names[1][0] = 'Sammy'\n",
    "#sea_names[1][1] = 'Jesse'\n",
    "#sea_names[1][2] = 'Drew'\n",
    "#sea_names[1][3] = 'Jamie'\n",
    "\n",
    "\n",
    "sea_names = [['shark', 'octopus', 'squid', 'mantisshrimp'],\n",
    "            ['Sammy', 'Jesse', 'Drew', 'Jamie']]\n",
    "print(sea_names[1][0])\n",
    "print(sea_names[1][2])\n",
    "\n"
   ]
  },
  {
   "cell_type": "markdown",
   "metadata": {},
   "source": [
    "How To Use List Methods"
   ]
  },
  {
   "cell_type": "code",
   "execution_count": 144,
   "metadata": {},
   "outputs": [
    {
     "name": "stdout",
     "output_type": "stream",
     "text": [
      "['barracuda', 'cod', 'devil ray', 'eel', 'flounder']\n",
      "['anchovy', 'barracuda', 'cod', 'devil ray', 'eel', 'flounder']\n"
     ]
    }
   ],
   "source": [
    "#list.insert()\n",
    "fish = ['barracuda','cod','devil ray','eel']\n",
    "fish.append('flounder')\n",
    "print(fish)\n",
    "fish.insert(0,'anchovy')\n",
    "print(fish)"
   ]
  },
  {
   "cell_type": "code",
   "execution_count": 145,
   "metadata": {},
   "outputs": [
    {
     "name": "stdout",
     "output_type": "stream",
     "text": [
      "['anchovy', 'barracuda', 'cod', 'devil ray', 'eel', 'flounder', 'goby', 'herring', 'ide', 'kissing gourami']\n"
     ]
    }
   ],
   "source": [
    "#list.extend()\n",
    "more_fish = ['goby','herring','ide','kissing gourami']\n",
    "fish.extend(more_fish)\n",
    "print(fish)"
   ]
  },
  {
   "cell_type": "code",
   "execution_count": 146,
   "metadata": {},
   "outputs": [
    {
     "name": "stdout",
     "output_type": "stream",
     "text": [
      "devil ray\n",
      "['anchovy', 'barracuda', 'cod', 'eel', 'flounder', 'goby', 'herring', 'ide', 'kissing gourami']\n"
     ]
    }
   ],
   "source": [
    "#list.pop()\n",
    "print(fish.pop(3))\n",
    "print(fish)"
   ]
  },
  {
   "cell_type": "code",
   "execution_count": 147,
   "metadata": {},
   "outputs": [
    {
     "name": "stdout",
     "output_type": "stream",
     "text": [
      "['anchovy', 'barracuda', 'cod', 'eel', 'flounder', 'goby', 'herring', 'ide', 'kissing gourami']\n",
      "6\n"
     ]
    }
   ],
   "source": [
    "#list.index()\n",
    "print(fish)\n",
    "print(fish.index('herring'))"
   ]
  },
  {
   "cell_type": "code",
   "execution_count": 148,
   "metadata": {},
   "outputs": [
    {
     "name": "stdout",
     "output_type": "stream",
     "text": [
      "['anchovy', 'barracuda', 'cod', 'eel', 'flounder', 'goby', 'herring', 'ide', 'kissing gourami']\n"
     ]
    }
   ],
   "source": [
    "#list.copy()\n",
    "fish_2 = fish.copy()\n",
    "print(fish_2)"
   ]
  },
  {
   "cell_type": "code",
   "execution_count": 149,
   "metadata": {},
   "outputs": [
    {
     "name": "stdout",
     "output_type": "stream",
     "text": [
      "['kissing gourami', 'ide', 'herring', 'goby', 'flounder', 'eel', 'cod', 'barracuda', 'anchovy']\n"
     ]
    }
   ],
   "source": [
    "#list.reverse()\n",
    "fish.reverse()\n",
    "print(fish)"
   ]
  },
  {
   "cell_type": "code",
   "execution_count": 150,
   "metadata": {},
   "outputs": [
    {
     "name": "stdout",
     "output_type": "stream",
     "text": [
      "1\n",
      "3\n"
     ]
    }
   ],
   "source": [
    "#list.count()\n",
    "print(fish.count('goby'))\n",
    "\n",
    "fish_ages = [1,2,4,3,2,1,1,2]\n",
    "print(fish_ages.count(1))"
   ]
  },
  {
   "cell_type": "code",
   "execution_count": 151,
   "metadata": {},
   "outputs": [
    {
     "name": "stdout",
     "output_type": "stream",
     "text": [
      "[1, 1, 1, 2, 2, 2, 3, 4]\n"
     ]
    }
   ],
   "source": [
    "#lists.sort()\n",
    "fish_ages.sort()\n",
    "print(fish_ages)"
   ]
  },
  {
   "cell_type": "code",
   "execution_count": 152,
   "metadata": {},
   "outputs": [
    {
     "name": "stdout",
     "output_type": "stream",
     "text": [
      "[]\n"
     ]
    }
   ],
   "source": [
    "#list.clear()\n",
    "fish.clear()\n",
    "print(fish)"
   ]
  },
  {
   "cell_type": "markdown",
   "metadata": {},
   "source": [
    "Comprender las comprensiones de listas"
   ]
  },
  {
   "cell_type": "code",
   "execution_count": 153,
   "metadata": {},
   "outputs": [
    {
     "name": "stdout",
     "output_type": "stream",
     "text": [
      "['s', 'h', 'a', 'r', 'k']\n",
      "['blowfish', 'clownfish', 'catfish']\n",
      "[0, 4, 16, 36, 64]\n",
      "[40, 80, 120, 80, 160, 240, 120, 240, 360]\n",
      "[40, 80, 120, 80, 160, 240, 120, 240, 360]\n"
     ]
    }
   ],
   "source": [
    "#shark_letters = [letter for letter in 'shark']\n",
    "#print(shark_letters)\n",
    "\n",
    "shark_letters = []\n",
    "for letter in 'shark':\n",
    "    shark_letters.append(letter)\n",
    "print(shark_letters)\n",
    "\n",
    "#Uso de condicionales con comprensión de listas\n",
    "fish_tuple = ('blowfish', 'clownfish', 'catfish',\n",
    "'octopus')\n",
    "fish_list = [fish for fish in fish_tuple if fish !=\n",
    "'octopus']\n",
    "print(fish_list)\n",
    "\n",
    "number_list = [x ** 2 for x in range(10) if x % 2 ==\n",
    "0]\n",
    "print(number_list)\n",
    "\n",
    "#Bucles anidados en una comprensión de lista\n",
    "my_list = []\n",
    "for x in [20, 40, 60]:\n",
    "    for y in [2, 4, 6]:\n",
    "        my_list.append(x * y)\n",
    "print(my_list)\n",
    "\n",
    "my_list = [x * y for x in [20, 40, 60] for y in [2, 4,\n",
    "6]]\n",
    "print(my_list)"
   ]
  },
  {
   "cell_type": "markdown",
   "metadata": {},
   "source": [
    "DICCIONARIOs"
   ]
  },
  {
   "cell_type": "code",
   "execution_count": 154,
   "metadata": {},
   "outputs": [
    {
     "name": "stdout",
     "output_type": "stream",
     "text": [
      "{'username': 'sammy-sharck', 'online': True, 'followers': 897}\n",
      "sammy-sharck\n"
     ]
    },
    {
     "data": {
      "text/plain": [
       "897"
      ]
     },
     "execution_count": 154,
     "metadata": {},
     "output_type": "execute_result"
    }
   ],
   "source": [
    "sammy = {\n",
    "    'username': 'sammy-sharck', 'online': True, 'followers':897\n",
    "}\n",
    "print(sammy)\n",
    "print(sammy['username'])\n",
    "sammy['followers']\n",
    "# Returns 987\n",
    "#sammy['online']\n",
    "# Returns True"
   ]
  },
  {
   "cell_type": "markdown",
   "metadata": {},
   "source": [
    "Uso de funciones para acceder a los elementos"
   ]
  },
  {
   "cell_type": "code",
   "execution_count": 155,
   "metadata": {},
   "outputs": [
    {
     "name": "stdout",
     "output_type": "stream",
     "text": [
      "sammy-shark JOctopus\n",
      "True False\n",
      "dict_values(['sammy-shark', True, 987])\n",
      "dict_items([('username', 'sammy-shark'), ('online', True), ('followers', 987)])\n"
     ]
    }
   ],
   "source": [
    "sammy = {'username': 'sammy-shark', 'online': True,\n",
    "'followers': 987}\n",
    "jesse = {'username': 'JOctopus', 'online': False,\n",
    "'points': 723}\n",
    "for common_key in sammy.keys() & jesse.keys():\n",
    "    print(sammy[common_key], jesse[common_key])\n",
    "\n",
    "print(sammy.values())\n",
    "print(sammy.items())"
   ]
  },
  {
   "cell_type": "markdown",
   "metadata": {},
   "source": [
    "modificando diccionarios"
   ]
  },
  {
   "cell_type": "code",
   "execution_count": 156,
   "metadata": {},
   "outputs": [
    {
     "name": "stdout",
     "output_type": "stream",
     "text": [
      "{'username': 'squidly', 'online': True, 'followers': 342}\n"
     ]
    }
   ],
   "source": [
    "drew = {'username': 'squidly', 'online': True,\n",
    "'followers': 305}\n",
    "drew['followers'] = 342\n",
    "print(drew)"
   ]
  },
  {
   "cell_type": "code",
   "execution_count": 157,
   "metadata": {},
   "outputs": [
    {
     "name": "stdout",
     "output_type": "stream",
     "text": [
      "{'username': 'JOctopus', 'online': False, 'points': 723, 'followers': 481}\n"
     ]
    }
   ],
   "source": [
    "jesse = {'username': 'JOctopus', 'online': False,\n",
    "'points': 723}\n",
    "jesse.update({'followers': 481})\n",
    "print(jesse)\n"
   ]
  },
  {
   "cell_type": "code",
   "execution_count": 160,
   "metadata": {},
   "outputs": [
    {
     "name": "stdout",
     "output_type": "stream",
     "text": [
      "{'username': 'JOctopus', 'online': False, 'followers': 481}\n"
     ]
    }
   ],
   "source": [
    "jesse = {'username': 'JOctopus', 'online': False,\n",
    "'points': 723, 'followers': 481}\n",
    "del jesse['points']\n",
    "print(jesse)"
   ]
  },
  {
   "cell_type": "code",
   "execution_count": 158,
   "metadata": {},
   "outputs": [
    {
     "name": "stdout",
     "output_type": "stream",
     "text": [
      "{}\n"
     ]
    }
   ],
   "source": [
    "jesse = {'username': 'JOctopus', 'online': False,\n",
    "'points': 723, 'followers': 481}\n",
    "jesse.clear()\n",
    "print(jesse)"
   ]
  },
  {
   "cell_type": "code",
   "execution_count": null,
   "metadata": {},
   "outputs": [],
   "source": [
    "del jesse\n",
    "print(jesse)\n",
    "#name 'jesse' is not defined"
   ]
  }
 ],
 "metadata": {
  "kernelspec": {
   "display_name": "Python 3.10.7 64-bit",
   "language": "python",
   "name": "python3"
  },
  "language_info": {
   "codemirror_mode": {
    "name": "ipython",
    "version": 3
   },
   "file_extension": ".py",
   "mimetype": "text/x-python",
   "name": "python",
   "nbconvert_exporter": "python",
   "pygments_lexer": "ipython3",
   "version": "3.10.7"
  },
  "orig_nbformat": 4,
  "vscode": {
   "interpreter": {
    "hash": "c63d8c7d738c2960218a10995aedf0a7f67a49a231e71037adf0440953cdb45b"
   }
  }
 },
 "nbformat": 4,
 "nbformat_minor": 2
}
